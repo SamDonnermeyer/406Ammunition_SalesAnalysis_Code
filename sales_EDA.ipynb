{
 "cells": [
  {
   "cell_type": "code",
   "execution_count": null,
   "metadata": {},
   "outputs": [],
   "source": [
    "## EDA for Sales ##\n",
    "\n",
    "### Import Packages ###\n",
    "import pandas as pd\n",
    "import numpy as np \n",
    "import seaborn as sns\n",
    "import matplotlib as plt\n",
    "import us\n",
    "from uszipcode import SearchEngine\n",
    "\n",
    "# Set Zipcode Search Engine\n",
    "search = SearchEngine(simple_zipcode=True)\n",
    "\n",
    "# Default Style for Seaborn\n",
    "sns.set_theme(style=\"whitegrid\")"
   ]
  },
  {
   "cell_type": "code",
   "execution_count": null,
   "metadata": {},
   "outputs": [],
   "source": [
    "## Load Dataset ##\n",
    "sales = pd.read_csv(\"Sales_2020_ANONYMIZED.csv\")\n",
    "sales['date'].astype('datetime64[ns, US/Eastern]')\n",
    "sales = sales.drop(sales.columns[0], axis=1)\n",
    "sales['state'] = ''\n",
    "sales['city'] = ''\n",
    "\n",
    "## Bring in State/City Data based on Zip\n",
    "for idx, row in sales.iterrows():\n",
    "    # Search on zipcode - gets first 5 chars\n",
    "    zipcode = search.by_zipcode(str(sales.loc[idx, 'name_zip'])[:5])\n",
    "    # Add to df \n",
    "    sales.loc[idx, 'state'] = str(us.states.lookup(str(zipcode.state)))\n",
    "    sales.loc[idx, 'city'] = zipcode.major_city"
   ]
  },
  {
   "cell_type": "code",
   "execution_count": null,
   "metadata": {},
   "outputs": [],
   "source": [
    "### SPLIT DF ###\n",
    "# Individual Sales\n",
    "individual_sales = sales[sales['cust_type'] == \"individual\"]\n",
    "\n",
    "# Business Sales\n",
    "business_sales = sales[sales['cust_type'] == \"business\"]\n",
    "\n",
    "# Walk-In Sales\n",
    "walkin_sales = sales[sales['cust_type'] == \"walk-in\"]"
   ]
  },
  {
   "cell_type": "code",
   "execution_count": null,
   "metadata": {},
   "outputs": [],
   "source": [
    "## Group Customers ##\n",
    "transactions_grouped = sales.groupby(['num', 'cust_id'])[\"amount\"].agg(['sum'])\n",
    "sales_cust_grouped = transactions_grouped.groupby('cust_id')['sum'].agg(['sum', 'count'])"
   ]
  },
  {
   "cell_type": "code",
   "execution_count": null,
   "metadata": {},
   "outputs": [],
   "source": [
    "## Create Summary CSV ##\n",
    "\n",
    "## Total Sales \n",
    "# The sum of 'amount' \n",
    "total_sales = round(sales['amount'].sum(), 2)\n",
    "\n",
    "## Unique Products \n",
    "# get the number of unique 'item's\n",
    "product_qty = sales.groupby('item')['qty'].mean()\n",
    "unique_prod = round(product_qty.shape[0], 2)\n",
    "\n",
    "## Unique Customers \n",
    "# Count the number of unique 'cust_id'\n",
    "customer_count = sales.groupby('cust_id')['cust_id'].nunique()\n",
    "customer_count = round(customer_count.shape[0], 2)\n",
    "\n",
    "## Avg Amnt per T/A \n",
    "# Get the average transaction amount - first aggregated by customers and date to group item purchases on the same day by the same customer (returns the number of T/As) then divided by the total sales\n",
    "avg_transaction = round(sales['amount'].sum()/transactions_grouped['sum'].count(), 2)\n",
    "\n",
    "## States Sold To\n",
    "states_soldto = sales.groupby('state')['state'].nunique()\n",
    "states_soldto = round(states_soldto.shape[0], 2)\n",
    "\n",
    "## Cities Sold To\n",
    "city_soldto = sales.groupby('city')['city'].nunique()\n",
    "city_soldto = round(city_soldto.shape[0],2)\n",
    "\n",
    "## Create summary df\n",
    "# initialize list of lists \n",
    "data = [['total sales', total_sales], ['unique products', unique_prod], ['unique customers', customer_count], \n",
    "        ['average T/A amount', avg_transaction], ['count states sold to', states_soldto], \n",
    "        ['count of cities sold to', city_soldto],\n",
    "       ]\n",
    "\n",
    "# Create df \n",
    "summary_df = pd.DataFrame(data, columns = ['summary', 'value'])"
   ]
  },
  {
   "cell_type": "code",
   "execution_count": null,
   "metadata": {},
   "outputs": [],
   "source": [
    "## Group by Month/Year ##\n",
    "sales['YearMonth'] = pd.to_datetime(sales['date']).apply(lambda x: '{year}-{month}'.format(year=x.year,month=x.month))\n",
    "monthly_sales = sales.groupby('YearMonth').agg({'amount': 'sum', \n",
    "                                                'cust_id': 'nunique'})\n",
    "monthly_sales.sort_values(by=\"YearMonth\")"
   ]
  },
  {
   "cell_type": "code",
   "execution_count": null,
   "metadata": {},
   "outputs": [],
   "source": [
    "## State Summary ##\n",
    "state_grouped = sales.groupby(['cust_id', 'date', 'state'])[\"amount\"].agg(['sum'])\n",
    "state_grouped = state_grouped.groupby('state')['sum'].agg(['sum', 'count'])"
   ]
  },
  {
   "cell_type": "code",
   "execution_count": null,
   "metadata": {},
   "outputs": [],
   "source": [
    "## Customer Breakdown ##\n",
    "\n",
    "# Group sales by month and type\n",
    "monthly_grouped_sales = sales.groupby([\"num\",\"YearMonth\", \"cust_type\"])[\"amount\"].agg([\"sum\"]).reset_index()\n",
    "monthly_grouped_sales = monthly_grouped_sales.groupby([\"YearMonth\", \"cust_type\"], as_index=False)[\"num\", \"sum\"].agg([\"count\", \"sum\"])"
   ]
  },
  {
   "cell_type": "code",
   "execution_count": null,
   "metadata": {},
   "outputs": [],
   "source": [
    "## Output to CSV ##\n",
    "monthly_grouped_sales.to_csv(\"customer_type_monthly_sales.csv\")\n",
    "state_grouped.to_csv('state_grouped.csv')\n",
    "monthly_sales.to_csv('monthly_sales.csv')\n",
    "summary_df.to_csv(\"summary_metrics.csv\", index = False)\n",
    "sales.to_csv(\"total_sales.csv\", index = False)\n",
    "individual_sales.to_csv(\"individual_sales.csv\", index = False)\n",
    "business_sales.to_csv(\"business_sales.csv\", index = False)\n",
    "walkin_sales.to_csv(\"walk-in_sales.csv\", index = False)\n",
    "transactions_grouped.to_csv(\"transactionsgrouped.csv\")\n",
    "sales_cust_grouped.to_csv(\"sales_cust_grouped.csv\")"
   ]
  }
 ],
 "metadata": {
  "kernelspec": {
   "display_name": "Python 3",
   "language": "python",
   "name": "python3"
  },
  "language_info": {
   "codemirror_mode": {
    "name": "ipython",
    "version": 3
   },
   "file_extension": ".py",
   "mimetype": "text/x-python",
   "name": "python",
   "nbconvert_exporter": "python",
   "pygments_lexer": "ipython3",
   "version": "3.7.7"
  }
 },
 "nbformat": 4,
 "nbformat_minor": 4
}
